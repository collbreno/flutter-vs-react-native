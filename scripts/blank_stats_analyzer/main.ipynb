{
 "cells": [
  {
   "cell_type": "code",
   "execution_count": 2,
   "source": [
    "import seaborn as sns\r\n",
    "import pandas as pd\r\n",
    "from tabulate import tabulate\r\n",
    "import numpy as np"
   ],
   "outputs": [],
   "metadata": {}
  },
  {
   "cell_type": "code",
   "execution_count": 3,
   "source": [
    "df = pd.read_csv('dataframe.csv')\r\n",
    "df = df[df.framework=='rn']"
   ],
   "outputs": [],
   "metadata": {}
  },
  {
   "cell_type": "code",
   "execution_count": 4,
   "source": [
    "def get_count_where_relative_percentage(dataframe: pd.DataFrame, limit) -> pd.Series:\r\n",
    "    all_frames = dataframe.groupby(['execution_id'])['frame_id'].count()\r\n",
    "    filtered = dataframe[dataframe.white_relative_percentage > limit]\r\n",
    "    filtered = filtered.groupby(['execution_id'])['frame_id'].count()\r\n",
    "    return filtered / all_frames"
   ],
   "outputs": [],
   "metadata": {}
  },
  {
   "cell_type": "code",
   "execution_count": 5,
   "source": [
    "table = [['Maior que', 'Média', 'Desvio padrão']]\r\n",
    "for limit in [0, 50, 90, 99]:\r\n",
    "    filtered_df = get_count_where_relative_percentage(df, limit)\r\n",
    "    mean = np.round(filtered_df.mean()*100, 2)\r\n",
    "    std = np.round(filtered_df.std()*100, 2)\r\n",
    "    table.append([f'{limit}%', f'{mean}%', f'{std}%'])\r\n",
    "\r\n",
    "print(tabulate(table))"
   ],
   "outputs": [
    {
     "output_type": "stream",
     "name": "stdout",
     "text": [
      "---------  ------  -------------\n",
      "Maior que  Média   Desvio padrão\n",
      "0%         27.97%  5.28%\n",
      "50%        20.36%  4.63%\n",
      "90%        12.95%  4.28%\n",
      "99%        11.61%  4.14%\n",
      "---------  ------  -------------\n"
     ]
    }
   ],
   "metadata": {}
  },
  {
   "cell_type": "code",
   "execution_count": 10,
   "source": [
    "sns.set(rc = {'figure.figsize':(15,8)})\r\n",
    "sns.lineplot(data=df, x='frame_id', y='white_relative_percentage')"
   ],
   "outputs": [],
   "metadata": {}
  }
 ],
 "metadata": {
  "orig_nbformat": 4,
  "language_info": {
   "name": "python",
   "version": "3.9.6",
   "mimetype": "text/x-python",
   "codemirror_mode": {
    "name": "ipython",
    "version": 3
   },
   "pygments_lexer": "ipython3",
   "nbconvert_exporter": "python",
   "file_extension": ".py"
  },
  "kernelspec": {
   "name": "python3",
   "display_name": "Python 3.9.6 64-bit"
  },
  "interpreter": {
   "hash": "63fd5069d213b44bf678585dea6b12cceca9941eaf7f819626cde1f2670de90d"
  }
 },
 "nbformat": 4,
 "nbformat_minor": 2
}